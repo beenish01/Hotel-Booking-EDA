{
  "nbformat": 4,
  "nbformat_minor": 0,
  "metadata": {
    "colab": {
      "provenance": [],
      "authorship_tag": "ABX9TyODQiiW4FO+nf9xcxkiKADI",
      "include_colab_link": true
    },
    "kernelspec": {
      "name": "python3",
      "display_name": "Python 3"
    },
    "language_info": {
      "name": "python"
    }
  },
  "cells": [
    {
      "cell_type": "markdown",
      "metadata": {
        "id": "view-in-github",
        "colab_type": "text"
      },
      "source": [
        "<a href=\"https://colab.research.google.com/github/beenish01/Hotel-Booking-EDA/blob/main/Untitled0.ipynb\" target=\"_parent\"><img src=\"https://colab.research.google.com/assets/colab-badge.svg\" alt=\"Open In Colab\"/></a>"
      ]
    },
    {
      "cell_type": "code",
      "execution_count": null,
      "metadata": {
        "colab": {
          "base_uri": "https://localhost:8080/"
        },
        "id": "aoeSHETUZXpD",
        "outputId": "c1520e0f-322e-438b-fed7-c5893bb078aa"
      },
      "outputs": [
        {
          "output_type": "stream",
          "name": "stdout",
          "text": [
            "Generating large_file_1GB.txt of size 1 GB...\n",
            "large_file_1GB.txt generated successfully.\n",
            "Generating large_file_1.5GB.txt of size 1.5 GB...\n",
            "large_file_1.5GB.txt generated successfully.\n",
            "Generating large_file_2GB.txt of size 2 GB...\n",
            "large_file_2GB.txt generated successfully.\n"
          ]
        }
      ],
      "source": [
        "import os\n",
        "\n",
        "def generate_large_file(input_file, output_file, target_size_gb):\n",
        "    # Convert target size from GB to bytes\n",
        "    target_size_bytes = target_size_gb * 1024**3\n",
        "    # Track the current size\n",
        "    current_size = 0\n",
        "\n",
        "    # Open input file to read from and output file to write to\n",
        "    with open(input_file, 'r') as infile, open(output_file, 'w') as outfile:\n",
        "        while current_size < target_size_bytes:\n",
        "            # Go back to the beginning of the input file when end is reached\n",
        "            for line in infile:\n",
        "                # Write line to output file\n",
        "                outfile.write(line)\n",
        "                current_size += len(line.encode('utf-8'))  # Update size in bytes\n",
        "                # Break loop if target size reached\n",
        "                if current_size >= target_size_bytes:\n",
        "                    break\n",
        "            infile.seek(0)  # Reset to the beginning of the file if looped through all lines\n",
        "\n",
        "# Define paths and sizes\n",
        "input_file = 'words.txt.txt'  # Base file\n",
        "output_files = [\n",
        "    ('large_file_1GB.txt', 1),\n",
        "    ('large_file_1.5GB.txt', 1.5),\n",
        "    ('large_file_2GB.txt', 2)\n",
        "]\n",
        "\n",
        "# Generate files\n",
        "for output_file, size_gb in output_files:\n",
        "    print(f\"Generating {output_file} of size {size_gb} GB...\")\n",
        "    generate_large_file(input_file, output_file, size_gb)\n",
        "    print(f\"{output_file} generated successfully.\")\n"
      ]
    },
    {
      "cell_type": "code",
      "source": [],
      "metadata": {
        "id": "Pn67XiULZljI"
      },
      "execution_count": null,
      "outputs": []
    }
  ]
}